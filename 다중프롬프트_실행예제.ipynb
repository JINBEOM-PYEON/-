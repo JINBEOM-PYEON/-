{
 "cells": [
  {
   "cell_type": "markdown",
   "metadata": {},
   "source": [
    "## 다중 프롬프트 실행 "
   ]
  },
  {
   "cell_type": "code",
   "execution_count": 1,
   "metadata": {},
   "outputs": [],
   "source": [
    "words=['diffuse', 'disseminate', 'propagate', 'circulate', 'disperse', 'broadcast', 'spray', 'scatter', 'sow', 'strew']"
   ]
  },
  {
   "cell_type": "code",
   "execution_count": 2,
   "metadata": {},
   "outputs": [],
   "source": [
    "list1=[i+'의 동의어 5개를 다음과 같은 형식으로 나열해줘; '+ i+' : 동의어..' for i in words]"
   ]
  },
  {
   "cell_type": "code",
   "execution_count": 3,
   "metadata": {},
   "outputs": [
    {
     "data": {
      "text/plain": [
       "['diffuse의 동의어 5개를 다음과 같은 형식으로 나열해줘; diffuse : 동의어..',\n",
       " 'disseminate의 동의어 5개를 다음과 같은 형식으로 나열해줘; disseminate : 동의어..',\n",
       " 'propagate의 동의어 5개를 다음과 같은 형식으로 나열해줘; propagate : 동의어..',\n",
       " 'circulate의 동의어 5개를 다음과 같은 형식으로 나열해줘; circulate : 동의어..',\n",
       " 'disperse의 동의어 5개를 다음과 같은 형식으로 나열해줘; disperse : 동의어..',\n",
       " 'broadcast의 동의어 5개를 다음과 같은 형식으로 나열해줘; broadcast : 동의어..',\n",
       " 'spray의 동의어 5개를 다음과 같은 형식으로 나열해줘; spray : 동의어..',\n",
       " 'scatter의 동의어 5개를 다음과 같은 형식으로 나열해줘; scatter : 동의어..',\n",
       " 'sow의 동의어 5개를 다음과 같은 형식으로 나열해줘; sow : 동의어..',\n",
       " 'strew의 동의어 5개를 다음과 같은 형식으로 나열해줘; strew : 동의어..']"
      ]
     },
     "execution_count": 3,
     "metadata": {},
     "output_type": "execute_result"
    }
   ],
   "source": [
    "list1"
   ]
  },
  {
   "cell_type": "code",
   "execution_count": 4,
   "metadata": {},
   "outputs": [],
   "source": [
    "def dic(i):\n",
    "    return '1st' if i==1 else '2nd' if i==2 else '3rd' if i==3 else str(i)+'th'"
   ]
  },
  {
   "cell_type": "code",
   "execution_count": 5,
   "metadata": {},
   "outputs": [
    {
     "data": {
      "text/plain": [
       "['1st', '2nd', '3rd', '4th', '5th', '6th', '7th', '8th', '9th', '10th']"
      ]
     },
     "execution_count": 5,
     "metadata": {},
     "output_type": "execute_result"
    }
   ],
   "source": [
    "[dic(i) for i in range(1,11)]"
   ]
  },
  {
   "cell_type": "code",
   "execution_count": 6,
   "metadata": {},
   "outputs": [],
   "source": [
    "part1=\"I want you to execute the following steps.\\n\""
   ]
  },
  {
   "cell_type": "code",
   "execution_count": 7,
   "metadata": {},
   "outputs": [],
   "source": [
    "part2=f\"Step 1 - list1={list1}\\n\""
   ]
  },
  {
   "cell_type": "code",
   "execution_count": 8,
   "metadata": {},
   "outputs": [],
   "source": [
    "part3='\\n'.join([\"Step\"+\" \"+str(i)+\" - take the\"+\" \"+dic(i-1)+\" \"+\\\n",
    "       \"element from the list1 from Step1 and execute the element\" for i in range(2,12)])"
   ]
  },
  {
   "cell_type": "code",
   "execution_count": 9,
   "metadata": {},
   "outputs": [
    {
     "name": "stdout",
     "output_type": "stream",
     "text": [
      "I want you to execute the following steps.\n",
      "Step 1 - list1=['diffuse의 동의어 5개를 다음과 같은 형식으로 나열해줘; diffuse : 동의어..', 'disseminate의 동의어 5개를 다음과 같은 형식으로 나열해줘; disseminate : 동의어..', 'propagate의 동의어 5개를 다음과 같은 형식으로 나열해줘; propagate : 동의어..', 'circulate의 동의어 5개를 다음과 같은 형식으로 나열해줘; circulate : 동의어..', 'disperse의 동의어 5개를 다음과 같은 형식으로 나열해줘; disperse : 동의어..', 'broadcast의 동의어 5개를 다음과 같은 형식으로 나열해줘; broadcast : 동의어..', 'spray의 동의어 5개를 다음과 같은 형식으로 나열해줘; spray : 동의어..', 'scatter의 동의어 5개를 다음과 같은 형식으로 나열해줘; scatter : 동의어..', 'sow의 동의어 5개를 다음과 같은 형식으로 나열해줘; sow : 동의어..', 'strew의 동의어 5개를 다음과 같은 형식으로 나열해줘; strew : 동의어..']\n",
      "Step 2 - take the 1st element from the list1 from Step1 and execute the element\n",
      "Step 3 - take the 2nd element from the list1 from Step1 and execute the element\n",
      "Step 4 - take the 3rd element from the list1 from Step1 and execute the element\n",
      "Step 5 - take the 4th element from the list1 from Step1 and execute the element\n",
      "Step 6 - take the 5th element from the list1 from Step1 and execute the element\n",
      "Step 7 - take the 6th element from the list1 from Step1 and execute the element\n",
      "Step 8 - take the 7th element from the list1 from Step1 and execute the element\n",
      "Step 9 - take the 8th element from the list1 from Step1 and execute the element\n",
      "Step 10 - take the 9th element from the list1 from Step1 and execute the element\n",
      "Step 11 - take the 10th element from the list1 from Step1 and execute the element\n"
     ]
    }
   ],
   "source": [
    "print(part1+part2+part3)"
   ]
  },
  {
   "cell_type": "code",
   "execution_count": null,
   "metadata": {},
   "outputs": [],
   "source": []
  }
 ],
 "metadata": {
  "kernelspec": {
   "display_name": "Python 3",
   "language": "python",
   "name": "python3"
  },
  "language_info": {
   "codemirror_mode": {
    "name": "ipython",
    "version": 3
   },
   "file_extension": ".py",
   "mimetype": "text/x-python",
   "name": "python",
   "nbconvert_exporter": "python",
   "pygments_lexer": "ipython3",
   "version": "3.8.5"
  }
 },
 "nbformat": 4,
 "nbformat_minor": 4
}
