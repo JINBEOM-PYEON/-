{
 "cells": [
  {
   "cell_type": "markdown",
   "metadata": {},
   "source": [
    "## 인공지능 10주차 출석과제"
   ]
  },
  {
   "cell_type": "code",
   "execution_count": null,
   "metadata": {},
   "outputs": [],
   "source": [
    "import networkx as nx\n",
    "# 빈 그래프 생성\n",
    "G = nx.Graph()"
   ]
  },
  {
   "cell_type": "code",
   "execution_count": null,
   "metadata": {},
   "outputs": [],
   "source": [
    "    # 빈 그래프에 노드 1개를 만들고 그 내용을 출력\n",
    "    G.add_node(1)\n",
    "    print(G.nodes())"
   ]
  },
  {
   "cell_type": "code",
   "execution_count": null,
   "metadata": {},
   "outputs": [],
   "source": [
    "# 숫자뿐만 아니라 문자나 문자열도 라벨로 사용 가능\n",
    "G.add_node('P')\n",
    "G.add_node('Hi')\n",
    "print(G.nodes())"
   ]
  },
  {
   "cell_type": "code",
   "execution_count": null,
   "metadata": {},
   "outputs": [],
   "source": [
    "# 한번에 다수 개의 노드를 삽입 후 그 내용을 출력\n",
    "G.add_nodes_from([2,3])\n",
    "print(G.nodes())"
   ]
  },
  {
   "cell_type": "code",
   "execution_count": null,
   "metadata": {},
   "outputs": [],
   "source": [
    "# 지금까지 작성된 그래프 G에 입력된 노드들을 한 줄씩 출력\n",
    "for node in G.nodes():\n",
    "    print(node)"
   ]
  },
  {
   "cell_type": "code",
   "execution_count": null,
   "metadata": {},
   "outputs": [],
   "source": [
    "G.add_nodes_from([3,4])\n",
    "print(G.nodes())"
   ]
  },
  {
   "cell_type": "code",
   "execution_count": null,
   "metadata": {},
   "outputs": [],
   "source": [
    "nx.draw(G, with_labels=True, node_color='lightblue')"
   ]
  },
  {
   "cell_type": "code",
   "execution_count": null,
   "metadata": {},
   "outputs": [],
   "source": [
    "# 엣지가 추가된 그래프\n",
    "G.add_edge(1,2)\n",
    "nx.draw(G, with_labels=True, node_color='lightblue',edge_color='grey')"
   ]
  },
  {
   "cell_type": "code",
   "execution_count": null,
   "metadata": {},
   "outputs": [],
   "source": [
    "# 그래프의 엣지 연결상태 출력\n",
    "print(G.edges())"
   ]
  },
  {
   "cell_type": "code",
   "execution_count": null,
   "metadata": {},
   "outputs": [],
   "source": [
    "# 엣지를 연결할 때 기존에 없던 노드를 연결하는 경우\n",
    "G.add_edge(4,5)\n",
    "print(G.edges())"
   ]
  },
  {
   "cell_type": "code",
   "execution_count": null,
   "metadata": {},
   "outputs": [],
   "source": [
    "# 복수 개의 엣지들을 한 번에 만들 수 있음\n",
    "G.add_edges_from([(1,2),(1,3),(1,4),(1,5)])\n",
    "print(G.edges())"
   ]
  },
  {
   "cell_type": "code",
   "execution_count": null,
   "metadata": {},
   "outputs": [],
   "source": [
    "# 'P'와 'Hi'를 노드 1과 연결한 후 전체 그래프를 그리기\n",
    "G.add_edge(1,'P')\n",
    "G.add_edge(1,'Hi')\n",
    "nx.draw(G, with_labels=True, node_color='yellow',edge_color='red')"
   ]
  },
  {
   "cell_type": "code",
   "execution_count": null,
   "metadata": {},
   "outputs": [],
   "source": [
    "# 그래프 자동 생성 방법1\n",
    "import networkx as nx\n",
    "\n",
    "G = nx.path_graph(4)\n",
    "nx.draw(G, with_labels=True, node_color='lightblue', edge_color='grey')"
   ]
  },
  {
   "cell_type": "code",
   "execution_count": null,
   "metadata": {},
   "outputs": [],
   "source": [
    "# 그래프 자동 생성 방법2\n",
    "import networkx as nx\n",
    "\n",
    "G = nx.Graph()\n",
    "nx.add_path(G,[0,1,2,3])\n",
    "nx.draw(G, with_labels=True, node_color='lightblue', edge_color='grey')"
   ]
  },
  {
   "cell_type": "code",
   "execution_count": null,
   "metadata": {},
   "outputs": [],
   "source": [
    "# 노드 별 차수 구하기\n",
    "import networkx as nx\n",
    "\n",
    "G = nx.Graph()\n",
    "nx.add_path(G, [0,1,2,3])\n",
    "\n",
    "print(G.degree(0))        # 노드 0에 대한 차수만 출력\n",
    "print(G.degree([0, 1]))   # 노드 0과 노드 1에 대한 차수만 출력\n",
    "print(G.degree())         # 모든 노드에 대한 차수를 출력"
   ]
  },
  {
   "cell_type": "code",
   "execution_count": null,
   "metadata": {},
   "outputs": [],
   "source": [
    "# 노드/엣지의 삭제\n",
    "print(G.edges())\n",
    "G.remove_edge(1, 2)\n",
    "print(G.edges())"
   ]
  },
  {
   "cell_type": "code",
   "execution_count": null,
   "metadata": {},
   "outputs": [],
   "source": [
    "# 다수 개의 엣지 삭제\n",
    "print(G.edges())\n",
    "G.remove_edges_from([(0,1),(2,3)])\n",
    "print(G.edges())"
   ]
  },
  {
   "cell_type": "code",
   "execution_count": null,
   "metadata": {},
   "outputs": [],
   "source": [
    "# 불필요한 노드 삭제하기\n",
    "print(G.nodes())\n",
    "G.remove_node(2)\n",
    "print(G.nodes())"
   ]
  },
  {
   "cell_type": "code",
   "execution_count": null,
   "metadata": {},
   "outputs": [],
   "source": [
    "    # 다수 개의 노드를 한꺼번에 삭제하기\n",
    "    print(G.nodes())\n",
    "    G.remove_nodes_from([0, 1, 3])\n",
    "    print(G.nodes())"
   ]
  },
  {
   "cell_type": "code",
   "execution_count": null,
   "metadata": {},
   "outputs": [],
   "source": [
    "# 노드/엣지의 갯수\n",
    "import networkx as nx\n",
    "\n",
    "G = nx.Graph()\n",
    "G.add_nodes_from([1,2,3,4,5])\n",
    "G.add_edges_from([(1,2), (1,3), (1,4), (1,5), (4,5)])\n",
    "\n",
    "print('No. nodes:', G.number_of_nodes())\n",
    "print('No. edges:', G.number_of_edges())"
   ]
  },
  {
   "cell_type": "code",
   "execution_count": null,
   "metadata": {},
   "outputs": [],
   "source": [
    "# 엣지 1개 제거\n",
    "G.remove_edge(1,3)\n",
    "\n",
    "print('No. nodes:', G.number_of_nodes())\n",
    "print('No. edges:', G.number_of_edges())"
   ]
  },
  {
   "cell_type": "code",
   "execution_count": null,
   "metadata": {},
   "outputs": [],
   "source": [
    "# 그래프 생성\n",
    "import networkx as nx\n",
    "\n",
    "G = nx.Graph()\n",
    "G.add_nodes_from([1,2,3,4,5])\n",
    "G.add_edges_from([(1,2),(1,3),(1,4),(1,5),(4,5)])\n",
    "\n",
    "print('No. nodes:', G.number_of_nodes())\n",
    "print('No. edges:', G.number_of_edges())\n",
    "\n",
    "nx.draw(G, with_labels=True, node_color='lightblue', edge_color='grey')"
   ]
  },
  {
   "cell_type": "code",
   "execution_count": null,
   "metadata": {},
   "outputs": [],
   "source": [
    "# 노드 1개 제거; 연관된 엣지도 함께 제거\n",
    "G.remove_node(3)\n",
    "\n",
    "print('No. nodes:', G.number_of_nodes())\n",
    "print('No. edges:', G.number_of_edges())\n",
    "\n",
    "nx.draw(G, with_labels=True, node_color='lightblue', edge_color='grey')"
   ]
  },
  {
   "cell_type": "code",
   "execution_count": null,
   "metadata": {},
   "outputs": [],
   "source": [
    "# 그래프 생성\n",
    "import networkx as nx\n",
    "\n",
    "G = nx.Graph()\n",
    "G.add_nodes_from([1,2,3,4,5])\n",
    "G.add_edges_from([(1,2),(1,3),(1,4),(1,5),(4,5)])\n",
    "\n",
    "print('No. nodes:', G.number_of_nodes())\n",
    "print('No. edges:', G.number_of_edges())\n",
    "\n",
    "nx.draw(G, with_labels=True, node_color='lightblue', edge_color='grey')"
   ]
  },
  {
   "cell_type": "code",
   "execution_count": null,
   "metadata": {},
   "outputs": [],
   "source": [
    "# 복수 개의 노드 제거; 연관된 엣지도 함께 제거\n",
    "G.remove_nodes_from([4,5])\n",
    "\n",
    "print('No. nodes:', G.number_of_nodes())\n",
    "print('No. edges:', G.number_of_edges())\n",
    "\n",
    "nx.draw(G, with_labels=True, node_color='lightblue', edge_color='grey')"
   ]
  },
  {
   "cell_type": "code",
   "execution_count": null,
   "metadata": {},
   "outputs": [],
   "source": [
    "# 최단경로 구하기1\n",
    "import networkx as nx\n",
    "\n",
    "G = nx.Graph()\n",
    "G.add_edge('a','b',weight=3)\n",
    "G.add_edge('b','c',weight=4)\n",
    "G.add_edge('c','d',weight=3)\n",
    "G.add_edge('d','b',weight=8)\n",
    "G.add_edge('c','a',weight=10)\n",
    "labels = nx.get_edge_attributes(G, 'weight')\n",
    "print(labels)\n",
    "nx.draw(G, with_labels=True, node_color='lightblue', edge_color='grey')"
   ]
  },
  {
   "cell_type": "code",
   "execution_count": null,
   "metadata": {},
   "outputs": [],
   "source": [
    "# 그래프의 최단경로 구하기1\n",
    "nx.shortest_path(G, 'a', 'd', weight='weight')"
   ]
  },
  {
   "cell_type": "code",
   "execution_count": null,
   "metadata": {},
   "outputs": [],
   "source": [
    "# 최단경로 구하기2\n",
    "import networkx as nx\n",
    "\n",
    "G = nx.Graph()\n",
    "G.add_edge('a','b',weight=4)\n",
    "G.add_edge('a','d',weight=8)\n",
    "G.add_edge('b','d',weight=3)\n",
    "G.add_edge('b','e',weight=10)\n",
    "G.add_edge('f','d',weight=12)\n",
    "G.add_edge('f','e',weight=7)\n",
    "labels = nx.get_edge_attributes(G, 'weight')\n",
    "print(labels)\n",
    "nx.draw(G, with_labels=True, node_color='lightblue', edge_color='grey')"
   ]
  },
  {
   "cell_type": "code",
   "execution_count": null,
   "metadata": {},
   "outputs": [],
   "source": [
    "# 그래프의 최단경로 구하기2\n",
    "nx.shortest_path(G, 'a', 'f', weight='weight')"
   ]
  },
  {
   "cell_type": "code",
   "execution_count": null,
   "metadata": {},
   "outputs": [],
   "source": [
    "import networkx as nx\n",
    "import matplotlib.pyplot as plt\n",
    "\n",
    "G = nx.erdos_renyi_graph(25, 0.2)\n",
    "nx.draw(G)"
   ]
  },
  {
   "cell_type": "code",
   "execution_count": null,
   "metadata": {},
   "outputs": [],
   "source": [
    "G = nx.watts_strogatz_graph(30, 3, 0.1)\n",
    "nx.draw(G)"
   ]
  },
  {
   "cell_type": "code",
   "execution_count": null,
   "metadata": {},
   "outputs": [],
   "source": [
    "G = nx.barabasi_albert_graph(25, 5)\n",
    "nx.draw(G)"
   ]
  },
  {
   "cell_type": "code",
   "execution_count": null,
   "metadata": {},
   "outputs": [],
   "source": [
    "G = nx.random_lobster(25, 0.9, 0.9)\n",
    "nx.draw(G)"
   ]
  },
  {
   "cell_type": "code",
   "execution_count": null,
   "metadata": {},
   "outputs": [],
   "source": [
    "from scipy.stats import bernoulli\n",
    "\n",
    "for i in range(6):\n",
    "    print(bernoulli.rvs(p=0.33))"
   ]
  },
  {
   "cell_type": "code",
   "execution_count": null,
   "metadata": {},
   "outputs": [],
   "source": [
    "# erdosGraph() 함수 만들기\n",
    "import numpy as np\n",
    "import networkx as nx\n",
    "import matplotlib.pyplot as plt\n",
    "\n",
    "from scipy.stats import bernoulli\n",
    "\n",
    "def erdosGraph(N, p):\n",
    "    G = nx.Graph()\n",
    "    G.add_nodes_from(range(N))\n",
    "    listG = list(G.nodes())\n",
    "    for i, node1 in enumerate(listG):\n",
    "        for node2 in listG[i+1:]:\n",
    "            if (bernoulli.rvs(p=p)):\n",
    "                G.add_edge(node1, node2)\n",
    "    return G\n",
    "\n",
    "def pltGraph(G):\n",
    "    plt.hist(list([d for n, d in G.degree()]), histtype='step')"
   ]
  },
  {
   "cell_type": "code",
   "execution_count": null,
   "metadata": {},
   "outputs": [],
   "source": [
    "nx.draw(erdosGraph(20, 0.18))"
   ]
  },
  {
   "cell_type": "code",
   "execution_count": null,
   "metadata": {},
   "outputs": [],
   "source": [
    "G1 = erdosGraph(80, 0.3)\n",
    "pltGraph(G1)\n",
    "G2 = erdosGraph(80, 0.3)\n",
    "pltGraph(G2)\n",
    "G3 = erdosGraph(80, 0.3)\n",
    "pltGraph(G3)"
   ]
  },
  {
   "cell_type": "code",
   "execution_count": null,
   "metadata": {},
   "outputs": [],
   "source": [
    "import matplotlib.pyplot as plt\n",
    "import networkx as nx\n",
    "from networkx.algorithms import bipartite\n",
    "\n",
    "G = nx.davis_southern_women_graph()\n",
    "women = G.graph[\"top\"]\n",
    "clubs = G.graph[\"bottom\"]\n",
    "\n",
    "print(\"Biadjacency matrix\")\n",
    "print(bipartite.biadjacency_matrix(G, women, clubs))\n",
    "\n",
    "# project bipartite graph onto women nodes\n",
    "W = bipartite.projected_graph(G, women)\n",
    "print()\n",
    "print(\"#Friends, Member\")\n",
    "for w in women:\n",
    "    print(f\"{W.degree(w)} {w}\")"
   ]
  },
  {
   "cell_type": "code",
   "execution_count": null,
   "metadata": {},
   "outputs": [],
   "source": [
    "# project bipartite graph onto women nodes keeping number of co-occurrence\n",
    "# the degree computed is weighted and counts the total number of shared contacts\n",
    "W = bipartite.weighted_projected_graph(G, women)\n",
    "print()\n",
    "print(\"#Friend meetings, Member\")\n",
    "for w in women:\n",
    "    print(f\"{W.degree(w, weight='weight')} {w}\")\n",
    "\n",
    "pos = nx.spring_layout(G, seed=648)  # Seed layout for reproducible node positions\n",
    "nx.draw(G, pos)\n",
    "plt.show()"
   ]
  },
  {
   "cell_type": "code",
   "execution_count": null,
   "metadata": {},
   "outputs": [],
   "source": []
  }
 ],
 "metadata": {
  "kernelspec": {
   "display_name": "Python 3",
   "language": "python",
   "name": "python3"
  },
  "language_info": {
   "codemirror_mode": {
    "name": "ipython",
    "version": 3
   },
   "file_extension": ".py",
   "mimetype": "text/x-python",
   "name": "python",
   "nbconvert_exporter": "python",
   "pygments_lexer": "ipython3",
   "version": "3.8.5"
  }
 },
 "nbformat": 4,
 "nbformat_minor": 4
}
